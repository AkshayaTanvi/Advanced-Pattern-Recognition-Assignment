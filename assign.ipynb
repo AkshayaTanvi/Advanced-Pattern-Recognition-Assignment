import pandas as pd
import seaborn as sns
import scipy.stats as stats
import matplotlib.pyplot as plt

# Load the penguins dataset (from seaborn)
penguins = sns.load_dataset("penguins")

# Drop rows with missing values in numeric columns of interest
penguins = penguins.dropna(subset=["bill_length_mm", "bill_depth_mm", "flipper_length_mm", "body_mass_g"])

# Choose two numeric variables, e.g., bill_length_mm and flipper_length_mm
x = penguins["bill_length_mm"]
y = penguins["flipper_length_mm"]

# Compute Pearson's correlation
corr_coef, p_value = stats.pearsonr(x, y)
print(f"Pearson correlation between bill length and flipper length: {corr_coef:.4f}")
print(f"P-value: {p_value:.4e}")

# Also correlation matrix among all numeric features
numeric_cols = ["bill_length_mm", "bill_depth_mm", "flipper_length_mm", "body_mass_g"]
corr_matrix = penguins[numeric_cols].corr(method="pearson")
print("\nCorrelation matrix:")
print(corr_matrix)

# Visualize
sns.pairplot(penguins[numeric_cols])
plt.show()

sns.heatmap(corr_matrix, annot=True, cmap="coolwarm")
plt.title("Correlation matrix heatmap (Penguins)")
plt.show()

